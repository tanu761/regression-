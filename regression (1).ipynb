{
  "nbformat": 4,
  "nbformat_minor": 0,
  "metadata": {
    "colab": {
      "provenance": []
    },
    "kernelspec": {
      "name": "python3",
      "display_name": "Python 3"
    },
    "language_info": {
      "name": "python"
    }
  },
  "cells": [
    {
      "cell_type": "markdown",
      "source": [
        "# REGRESSION..."
      ],
      "metadata": {
        "id": "ZGbjYVgnAcwZ"
      }
    },
    {
      "cell_type": "markdown",
      "source": [
        "QUES.1\n",
        "\n",
        "ANS; Simple Linear Regression is a statistical method used to study the relationship between two variables:\n",
        "\n",
        "Independent variable (X) → also called predictor or input.\n",
        "\n",
        "Dependent variable (Y) → also called response or output."
      ],
      "metadata": {
        "id": "C50zdoXXA6dn"
      }
    },
    {
      "cell_type": "markdown",
      "source": [
        "QUES.2\n",
        "\n",
        "ANS; 🔑 Key Assumptions of Simple Linear Regression\n",
        "\n",
        "Linearity\n",
        "\n",
        "The relationship between the independent variable (X) and dependent variable (Y) is linear.\n",
        "\n",
        "Example: If study hours double, marks should roughly double (not curve-shaped).\n",
        "\n",
        "Independence of Errors\n",
        "\n",
        "The residuals (errors) should be independent of each other.\n",
        "\n",
        "No correlation between errors.\n",
        "\n",
        "Homoscedasticity (Constant variance)\n",
        "\n",
        "The residuals should have constant variance at all levels of X.\n",
        "\n",
        "(Spread of errors should remain equal across predictions).\n",
        "\n",
        "Normality of Errors\n",
        "\n",
        "The residuals (ε) should be approximately normally distributed.\n",
        "\n",
        "Helps in making valid statistical inferences (like hypothesis testing).\n",
        "\n",
        "No (or little) Multicollinearity\n",
        "\n"
      ],
      "metadata": {
        "id": "2IqtpMdJBQMm"
      }
    },
    {
      "cell_type": "markdown",
      "source": [
        "QUES.3\n",
        "\n",
        "ANS; 🔹 What is Heteroscedasticity?\n",
        "\n",
        "In regression, heteroscedasticity occurs when the variance of the error terms (residuals) is not constant across all levels of the independent variable (X).\n",
        "\n",
        "Simply: the spread of residuals increases or decreases as X changes.\n",
        "\n",
        "🔹 Why is it Important?\n",
        "\n",
        "Violates Regression Assumptions\n",
        "\n",
        "One key assumption of linear regression is constant variance of errors (homoscedasticity).\n",
        "\n",
        "Heteroscedasticity breaks this assumption.\n",
        "\n",
        "Leads to Inefficient Estimates\n",
        "\n",
        "Coefficients (β₀, β₁) remain unbiased, but the standard errors become unreliable.\n",
        "\n",
        "This can make hypothesis tests (t-test, F-test) invalid."
      ],
      "metadata": {
        "id": "AJYBwCzeB8de"
      }
    },
    {
      "cell_type": "markdown",
      "source": [
        "QUES.4\n",
        "\n",
        "ANS;🔹 What is Multiple Linear Regression (MLR)?\n",
        "\n",
        "Multiple Linear Regression is an extension of simple linear regression.\n",
        "\n",
        "Instead of one independent variable (X), it uses two or more independent variables (X₁, X₂, …, Xn) to predict the dependent variable (Y)."
      ],
      "metadata": {
        "id": "Xkdtq2kJCrN0"
      }
    },
    {
      "cell_type": "markdown",
      "source": [
        "QUES.5\n",
        "\n",
        "ANS;🔹 What is Polynomial Regression?\n",
        "\n",
        "Polynomial Regression is a type of regression where the relationship between the independent variable (X) and dependent variable (Y) is modeled as an nth degree polynomial.\n",
        "\n",
        "Instead of fitting a straight line, it can fit a curve.\n",
        "\n",
        "| Aspect             | Linear Regression                           | Polynomial Regression                       |\n",
        "| ------------------ | ------------------------------------------- | ------------------------------------------- |\n",
        "| **Equation**       | $Y = β₀ + β₁X + ε$                          | $Y = β₀ + β₁X + β₂X^2 + … + βnX^n + ε$      |\n",
        "| **Shape of curve** | Straight line                               | Curve (parabolic, cubic, etc.)              |\n",
        "| **Flexibility**    | Limited, only linear relationships          | More flexible, captures non-linear patterns |\n",
        "| **Complexity**     | Simple, easy to interpret                   | More complex, risk of overfitting           |\n",
        "| **Use case**       | When relationship between X and Y is linear | When data shows non-linear trends           |\n"
      ],
      "metadata": {
        "id": "hP8k2UDtC7wz"
      }
    },
    {
      "cell_type": "markdown",
      "source": [
        "QUES.6\n",
        "\n",
        "ANS;"
      ],
      "metadata": {
        "id": "3r_g0f8IDb7Y"
      }
    },
    {
      "cell_type": "code",
      "source": [
        "import numpy as np\n",
        "import matplotlib.pyplot as plt\n",
        "from sklearn.linear_model import LinearRegression\n",
        "\n",
        "# Sample Data\n",
        "X = np.array([1, 2, 3, 4, 5]).reshape(-1, 1)  # reshape for sklearn\n",
        "Y = np.array([2.1, 4.3, 6.1, 7.9, 10.2])\n",
        "\n",
        "# Create and fit the model\n",
        "model = LinearRegression()\n",
        "model.fit(X, Y)\n",
        "\n",
        "# Predictions\n",
        "Y_pred = model.predict(X)\n",
        "\n",
        "# Coefficients\n",
        "slope = model.coef_[0]\n",
        "intercept = model.intercept_\n",
        "\n",
        "print(\"Intercept (β₀):\", intercept)\n",
        "print(\"Slope (β₁):\", slope)\n",
        "print(\"Regression Equation: Y =\", intercept, \"+\", slope, \"* X\")\n",
        "\n",
        "# Visualization\n",
        "plt.scatter(X, Y, color='blue', label=\"Actual Data\")\n",
        "plt.plot(X, Y_pred, color='red', label=\"Regression Line\")\n",
        "plt.xlabel(\"X\")\n",
        "plt.ylabel(\"Y\")\n",
        "plt.title(\"Simple Linear Regression\")\n",
        "plt.legend()\n",
        "plt.show()\n"
      ],
      "metadata": {
        "colab": {
          "base_uri": "https://localhost:8080/",
          "height": 526
        },
        "id": "fOlBtOvvD2zU",
        "outputId": "61cbeba7-e1d6-4b07-9fc3-25fb8faec57f"
      },
      "execution_count": null,
      "outputs": [
        {
          "output_type": "stream",
          "name": "stdout",
          "text": [
            "Intercept (β₀): 0.17999999999999794\n",
            "Slope (β₁): 1.9800000000000004\n",
            "Regression Equation: Y = 0.17999999999999794 + 1.9800000000000004 * X\n"
          ]
        },
        {
          "output_type": "display_data",
          "data": {
            "text/plain": [
              "<Figure size 640x480 with 1 Axes>"
            ],
            "image/png": "[encoded data removed]"
          },
          "metadata": {}
        }
      ]
    },
    {
      "cell_type": "markdown",
      "source": [
        "QUES.7\n",
        "\n",
        "ANS;"
      ],
      "metadata": {
        "id": "aY28BZiRD8ow"
      }
    },
    {
      "cell_type": "code",
      "source": [
        "import numpy as np\n",
        "import pandas as pd\n",
        "from sklearn.linear_model import LinearRegression\n",
        "from statsmodels.stats.outliers_influence import variance_inflation_factor\n",
        "import statsmodels.api as sm\n",
        "\n",
        "# Data\n",
        "Area = [1200, 1500, 1800, 2000]\n",
        "Rooms = [2, 3, 3, 4]\n",
        "Price = [250000, 300000, 320000, 370000]\n",
        "\n",
        "# Combine predictors into DataFrame\n",
        "X = pd.DataFrame({\"Area\": Area, \"Rooms\": Rooms})\n",
        "Y = np.array(Price)\n",
        "\n",
        "# Fit regression model\n",
        "model = LinearRegression()\n",
        "model.fit(X, Y)\n",
        "\n",
        "print(\"Intercept (β₀):\", model.intercept_)\n",
        "print(\"Coefficients (β for Area, Rooms):\", model.coef_)\n",
        "print(f\"Equation: Price = {model.intercept_:.2f} + ({model.coef_[0]:.2f} * Area) + ({model.coef_[1]:.2f} * Rooms)\")\n",
        "\n",
        "# ----- Check Multicollinearity using VIF -----\n",
        "# Add constant term for VIF calculation\n",
        "X_with_const = sm.add_constant(X)\n",
        "\n",
        "vif_data = pd.DataFrame()\n",
        "vif_data[\"Feature\"] = X_with_const.columns\n",
        "vif_data[\"VIF\"] = [variance_inflation_factor(X_with_const.values, i) for i in range(X_with_const.shape[1])]\n",
        "\n",
        "print(\"\\nVariance Inflation Factor (VIF):\")\n",
        "print(vif_data)\n"
      ],
      "metadata": {
        "colab": {
          "base_uri": "https://localhost:8080/"
        },
        "id": "LuDcf4sbEZmm",
        "outputId": "19e7f69a-fcb3-460f-ce7d-383273583fe5"
      },
      "execution_count": null,
      "outputs": [
        {
          "output_type": "stream",
          "name": "stdout",
          "text": [
            "Intercept (β₀): 103157.89473684214\n",
            "Coefficients (β for Area, Rooms): [   63.15789474 34736.84210526]\n",
            "Equation: Price = 103157.89 + (63.16 * Area) + (34736.84 * Rooms)\n",
            "\n",
            "Variance Inflation Factor (VIF):\n",
            "  Feature        VIF\n",
            "0   const  34.210526\n",
            "1    Area   7.736842\n",
            "2   Rooms   7.736842\n"
          ]
        }
      ]
    },
    {
      "cell_type": "markdown",
      "source": [
        "QUES.8\n",
        "\n",
        "ANS;"
      ],
      "metadata": {
        "id": "366r6M8NEcsl"
      }
    },
    {
      "cell_type": "code",
      "source": [
        "import numpy as np\n",
        "import matplotlib.pyplot as plt\n",
        "from sklearn.linear_model import LinearRegression\n",
        "from sklearn.preprocessing import PolynomialFeatures\n",
        "\n",
        "# Data\n",
        "X = np.array([1, 2, 3, 4, 5]).reshape(-1, 1)\n",
        "Y = np.array([2.2, 4.8, 7.5, 11.2, 14.7])\n",
        "\n",
        "# Create polynomial features (degree = 2)\n",
        "poly = PolynomialFeatures(degree=2)\n",
        "X_poly = poly.fit_transform(X)\n",
        "\n",
        "# Fit polynomial regression model\n",
        "model = LinearRegression()\n",
        "model.fit(X_poly, Y)\n",
        "\n",
        "# Predictions\n",
        "X_range = np.linspace(1, 5, 100).reshape(-1, 1)  # smooth curve\n",
        "X_range_poly = poly.transform(X_range)\n",
        "Y_pred = model.predict(X_range_poly)\n",
        "\n",
        "# Coefficients\n",
        "intercept = model.intercept_\n",
        "coefficients = model.coef_\n",
        "\n",
        "print(\"Intercept (β₀):\", intercept)\n",
        "print(\"Coefficients:\", coefficients)\n",
        "print(f\"Equation: Y = {intercept:.2f} + ({coefficients[1]:.2f} * X) + ({coefficients[2]:.2f} * X²)\")\n",
        "\n",
        "# Plot\n",
        "plt.scatter(X, Y, color=\"blue\", label=\"Actual Data\")\n",
        "plt.plot(X_range, Y_pred, color=\"red\", label=\"Polynomial Fit (degree 2)\")\n",
        "plt.xlabel(\"X\")\n",
        "plt.ylabel(\"Y\")\n",
        "plt.title(\"Polynomial Regression (Quadratic Fit)\")\n",
        "plt.legend()\n",
        "plt.show()\n"
      ],
      "metadata": {
        "colab": {
          "base_uri": "https://localhost:8080/",
          "height": 526
        },
        "id": "dlgbWGXSEqj_",
        "outputId": "83c0ac71-a63b-48b6-8ee9-6128fe5470a5"
      },
      "execution_count": null,
      "outputs": [
        {
          "output_type": "stream",
          "name": "stdout",
          "text": [
            "Intercept (β₀): 0.06000000000000938\n",
            "Coefficients: [0.   1.94 0.2 ]\n",
            "Equation: Y = 0.06 + (1.94 * X) + (0.20 * X²)\n"
          ]
        },
        {
          "output_type": "display_data",
          "data": {
            "text/plain": [
              "<Figure size 640x480 with 1 Axes>"
            ],
            "image/png": "[encoded data removed]"
          },
          "metadata": {}
        }
      ]
    },
    {
      "cell_type": "markdown",
      "source": [
        "QUES.9\n",
        "\n",
        "ANS;"
      ],
      "metadata": {
        "id": "tZyxfojpEvZD"
      }
    },
    {
      "cell_type": "code",
      "source": [
        "import numpy as np\n",
        "import matplotlib.pyplot as plt\n",
        "from sklearn.linear_model import LinearRegression\n",
        "\n",
        "# Data\n",
        "X = np.array([10, 20, 30, 40, 50]).reshape(-1, 1)\n",
        "Y = np.array([15, 35, 40, 50, 65])\n",
        "\n",
        "# Fit Linear Regression\n",
        "model = LinearRegression()\n",
        "model.fit(X, Y)\n",
        "\n",
        "# Predictions\n",
        "Y_pred = model.predict(X)\n",
        "\n",
        "# Residuals\n",
        "residuals = Y - Y_pred\n",
        "\n",
        "# Print regression equation\n",
        "print(\"Intercept (β₀):\", model.intercept_)\n",
        "print(\"Slope (β₁):\", model.coef_[0])\n",
        "print(f\"Equation: Y = {model.intercept_:.2f} + ({model.coef_[0]:.2f} * X)\")\n",
        "\n",
        "# Residuals plot\n",
        "plt.scatter(Y_pred, residuals, color=\"blue\")\n",
        "plt.axhline(y=0, color=\"red\", linestyle=\"--\")\n",
        "plt.xlabel(\"Predicted Values\")\n",
        "plt.ylabel(\"Residuals\")\n",
        "plt.title(\"Residual Plot for Checking Heteroscedasticity\")\n",
        "plt.show()\n"
      ],
      "metadata": {
        "colab": {
          "base_uri": "https://localhost:8080/",
          "height": 526
        },
        "id": "dp8yYFfIE9g3",
        "outputId": "dea05634-f21b-4cdd-dcbf-ee3cd194f7a0"
      },
      "execution_count": null,
      "outputs": [
        {
          "output_type": "stream",
          "name": "stdout",
          "text": [
            "Intercept (β₀): 6.499999999999993\n",
            "Slope (β₁): 1.1500000000000001\n",
            "Equation: Y = 6.50 + (1.15 * X)\n"
          ]
        },
        {
          "output_type": "display_data",
          "data": {
            "text/plain": [
              "<Figure size 640x480 with 1 Axes>"
            ],
            "image/png": "[encoded data removed]"
          },
          "metadata": {}
        }
      ]
    },
    {
      "cell_type": "markdown",
      "source": [
        "QUES.10\n",
        "\n",
        "ANS;🔹 Steps to Address Heteroscedasticity\n",
        "\n",
        "Visual + Statistical Check\n",
        "\n",
        "Plot residuals vs predicted values.\n",
        "\n",
        "Run statistical tests (e.g., Breusch–Pagan, White’s test).\n",
        "\n",
        "Transform Target Variable\n",
        "\n",
        "Apply log, square-root, or Box-Cox transform on Price (Y).\n",
        "\n",
        "Example:\n",
        "\n",
        "log\n",
        "⁡\n",
        "(\n",
        "𝑃\n",
        "𝑟\n",
        "𝑖\n",
        "𝑐\n",
        "𝑒\n",
        ")\n",
        "=\n",
        "𝛽\n",
        "0\n",
        "+\n",
        "𝛽\n",
        "1\n",
        "⋅\n",
        "𝐴\n",
        "𝑟\n",
        "𝑒\n",
        "𝑎\n",
        "+\n",
        "𝛽\n",
        "2\n",
        "⋅\n",
        "𝑅\n",
        "𝑜\n",
        "𝑜\n",
        "𝑚\n",
        "𝑠\n",
        "+\n",
        "…\n",
        "log(Price)=β\n",
        "0\n",
        "\t​\n",
        "\n",
        "+β\n",
        "1\n",
        "\t​\n",
        "\n",
        "⋅Area+β\n",
        "2\n",
        "\t​\n",
        "\n",
        "⋅Rooms+…\n",
        "\n",
        "Weighted Least Squares (WLS)\n",
        "\n",
        "Give lower weight to points with higher variance.\n",
        "\n",
        "Robust Standard Errors\n",
        "\n",
        "Use Huber-White robust errors so inference (p-values, CI) remains valid even with heteroscedasticity.\n",
        "\n",
        "🔹 Steps to Address Multicollinearity\n",
        "\n",
        "Detect\n",
        "\n",
        "Compute correlation matrix of predictors.\n",
        "\n",
        "Calculate VIF (Variance Inflation Factor) → VIF > 10 = problematic.\n",
        "\n",
        "Solutions\n",
        "\n",
        "Remove one of the correlated predictors (e.g., drop rooms if highly correlated with area).\n",
        "\n",
        "Combine correlated variables → create new features (e.g., price per sq. ft).\n",
        "\n",
        "Dimensionality reduction → PCA (Principal Component Analysis).\n",
        "\n",
        "Regularization techniques →\n",
        "\n",
        "Ridge Regression (L2): shrinks coefficients but keeps all features.\n",
        "\n",
        "Lasso Regression (L1): performs feature selection by pushing some coefficients to zero.\n",
        "\n",
        "🔹 Final Robust Modeling Strategy\n",
        "\n",
        "Preprocessing: Standardize/normalize features.\n",
        "\n",
        "Feature Engineering: Remove or combine highly correlated predictors.\n",
        "\n",
        "Transformations: Log-transform target (Price) to stabilize variance.\n",
        "\n",
        "Model Choice: Try Ridge/Lasso Regression instead of plain OLS.\n",
        "\n",
        "Validation: Use cross-validation to ensure generalizability.\n",
        "\n"
      ],
      "metadata": {
        "id": "LhZhDyWFFAvM"
      }
    },
    {
      "cell_type": "markdown",
      "source": [
        "# THANK YOU ASSIGNMENT COMPLETED.."
      ],
      "metadata": {
        "id": "JwJAJvVUFyif"
      }
    }
  ]
}